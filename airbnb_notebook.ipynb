{
 "metadata": {
  "language_info": {
   "codemirror_mode": {
    "name": "ipython",
    "version": 3
   },
   "file_extension": ".py",
   "mimetype": "text/x-python",
   "name": "python",
   "nbconvert_exporter": "python",
   "pygments_lexer": "ipython3",
   "version": "3.7.0-final"
  },
  "orig_nbformat": 2,
  "kernelspec": {
   "name": "lam4-nlp-s1",
   "display_name": "lam4-nlp-s1 (Python3)"
  }
 },
 "nbformat": 4,
 "nbformat_minor": 2,
 "cells": [
  {
   "cell_type": "code",
   "execution_count": 12,
   "metadata": {},
   "outputs": [],
   "source": [
    "import pandas as pd\n",
    "import math"
   ]
  },
  {
   "cell_type": "code",
   "execution_count": 11,
   "metadata": {},
   "outputs": [],
   "source": [
    "df = pd.read_csv(r\"C:\\Users\\porte\\Richard_python\\lambda\\labs\\resfeber_data\\data\\AB_US_2020.csv\")"
   ]
  },
  {
   "cell_type": "code",
   "execution_count": 7,
   "metadata": {},
   "outputs": [
    {
     "output_type": "stream",
     "name": "stdout",
     "text": [
      "(226030, 17)\n"
     ]
    },
    {
     "output_type": "execute_result",
     "data": {
      "text/plain": [
       "      id                                             name  host_id host_name  \\\n",
       "0  38585  Charming Victorian home - twin beds + breakfast   165529   Evelyne   \n",
       "1  80905                                 French Chic Loft   427027   Celeste   \n",
       "\n",
       "  neighbourhood_group neighbourhood  latitude  longitude        room_type  \\\n",
       "0                 NaN         28804  35.65146  -82.62792     Private room   \n",
       "1                 NaN         28801  35.59779  -82.55540  Entire home/apt   \n",
       "\n",
       "   price  minimum_nights  number_of_reviews last_review  reviews_per_month  \\\n",
       "0     60               1                138    16/02/20               1.14   \n",
       "1    470               1                114    07/09/20               1.03   \n",
       "\n",
       "   calculated_host_listings_count  availability_365       city  \n",
       "0                               1                 0  Asheville  \n",
       "1                              11               288  Asheville  "
      ],
      "text/html": "<div>\n<style scoped>\n    .dataframe tbody tr th:only-of-type {\n        vertical-align: middle;\n    }\n\n    .dataframe tbody tr th {\n        vertical-align: top;\n    }\n\n    .dataframe thead th {\n        text-align: right;\n    }\n</style>\n<table border=\"1\" class=\"dataframe\">\n  <thead>\n    <tr style=\"text-align: right;\">\n      <th></th>\n      <th>id</th>\n      <th>name</th>\n      <th>host_id</th>\n      <th>host_name</th>\n      <th>neighbourhood_group</th>\n      <th>neighbourhood</th>\n      <th>latitude</th>\n      <th>longitude</th>\n      <th>room_type</th>\n      <th>price</th>\n      <th>minimum_nights</th>\n      <th>number_of_reviews</th>\n      <th>last_review</th>\n      <th>reviews_per_month</th>\n      <th>calculated_host_listings_count</th>\n      <th>availability_365</th>\n      <th>city</th>\n    </tr>\n  </thead>\n  <tbody>\n    <tr>\n      <th>0</th>\n      <td>38585</td>\n      <td>Charming Victorian home - twin beds + breakfast</td>\n      <td>165529</td>\n      <td>Evelyne</td>\n      <td>NaN</td>\n      <td>28804</td>\n      <td>35.65146</td>\n      <td>-82.62792</td>\n      <td>Private room</td>\n      <td>60</td>\n      <td>1</td>\n      <td>138</td>\n      <td>16/02/20</td>\n      <td>1.14</td>\n      <td>1</td>\n      <td>0</td>\n      <td>Asheville</td>\n    </tr>\n    <tr>\n      <th>1</th>\n      <td>80905</td>\n      <td>French Chic Loft</td>\n      <td>427027</td>\n      <td>Celeste</td>\n      <td>NaN</td>\n      <td>28801</td>\n      <td>35.59779</td>\n      <td>-82.55540</td>\n      <td>Entire home/apt</td>\n      <td>470</td>\n      <td>1</td>\n      <td>114</td>\n      <td>07/09/20</td>\n      <td>1.03</td>\n      <td>11</td>\n      <td>288</td>\n      <td>Asheville</td>\n    </tr>\n  </tbody>\n</table>\n</div>"
     },
     "metadata": {},
     "execution_count": 7
    }
   ],
   "source": [
    "print(df.shape)\n",
    "df.head(2)"
   ]
  },
  {
   "cell_type": "code",
   "execution_count": 9,
   "metadata": {},
   "outputs": [
    {
     "output_type": "execute_result",
     "data": {
      "text/plain": [
       "(226030, 5)"
      ]
     },
     "metadata": {},
     "execution_count": 9
    }
   ],
   "source": [
    "# going to remove some of the columns that we will not use\n",
    "cols_to_use = [\"latitude\", \"longitude\", \"room_type\", \"price\", \"minimum_nights\"]\n",
    "df = df[cols_to_use]\n",
    "df.shape"
   ]
  },
  {
   "cell_type": "code",
   "execution_count": 13,
   "metadata": {},
   "outputs": [],
   "source": [
    "def change_to_radians(value):\n",
    "    return math.radians(value)"
   ]
  },
  {
   "cell_type": "code",
   "execution_count": 14,
   "metadata": {},
   "outputs": [
    {
     "output_type": "stream",
     "name": "stdout",
     "text": [
      "0.6222353601430576\n"
     ]
    }
   ],
   "source": [
    "print(change_to_radians(35.65146))"
   ]
  },
  {
   "cell_type": "code",
   "execution_count": 15,
   "metadata": {},
   "outputs": [
    {
     "output_type": "stream",
     "name": "stdout",
     "text": [
      "-1.4421292580744731\n"
     ]
    }
   ],
   "source": [
    "print(change_to_radians(-82.62792))"
   ]
  },
  {
   "cell_type": "code",
   "execution_count": null,
   "metadata": {},
   "outputs": [],
   "source": []
  }
 ]
}